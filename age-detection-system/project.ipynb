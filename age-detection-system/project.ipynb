{
 "cells": [
  {
   "cell_type": "code",
   "execution_count": null,
   "metadata": {},
   "outputs": [
    {
     "ename": "",
     "evalue": "",
     "output_type": "error",
     "traceback": [
      "\u001b[1;31mThe Kernel crashed while executing code in the current cell or a previous cell. \n",
      "\u001b[1;31mPlease review the code in the cell(s) to identify a possible cause of the failure. \n",
      "\u001b[1;31mClick <a href='https://aka.ms/vscodeJupyterKernelCrash'>here</a> for more info. \n",
      "\u001b[1;31mView Jupyter <a href='command:jupyter.viewOutput'>log</a> for further details."
     ]
    }
   ],
   "source": [
    "import cv2\n",
    "import numpy as np\n",
    "\n",
    "# Load pretrained model files\n",
    "face_model = \"opencv_face_detector_uint8.pb\"\n",
    "face_proto = \"opencv_face_detector.pbtxt\"\n",
    "age_model = \"age_net.caffemodel\"\n",
    "age_proto = \"age_deploy.prototxt\"\n",
    "\n",
    "# Age categories\n",
    "age_groups = ['(0-2)', '(4-6)', '(8-12)', '(15-20)', '(21-24)', \n",
    "              '(25-32)', '(38-43)', '(48-53)', '(60-100)']\n",
    "\n",
    "# Load models\n",
    "face_net = cv2.dnn.readNet(face_model, face_proto)\n",
    "age_net = cv2.dnn.readNet(age_model, age_proto)\n",
    "\n",
    "# Function to detect faces\n",
    "def detect_faces(net, frame, conf_threshold=0.7):\n",
    "    frame_height, frame_width = frame.shape[:2]\n",
    "    blob = cv2.dnn.blobFromImage(frame, 1.0, (300, 300), [104, 117, 123], True, False)\n",
    "    net.setInput(blob)\n",
    "    detections = net.forward()\n",
    "    bboxes = []\n",
    "    for i in range(detections.shape[2]):\n",
    "        confidence = detections[0, 0, i, 2]\n",
    "        if confidence > conf_threshold:\n",
    "            x1 = int(detections[0, 0, i, 3] * frame_width)\n",
    "            y1 = int(detections[0, 0, i, 4] * frame_height)\n",
    "            x2 = int(detections[0, 0, i, 5] * frame_width)\n",
    "            y2 = int(detections[0, 0, i, 6] * frame_height)\n",
    "            bboxes.append((x1, y1, x2, y2))\n",
    "    return bboxes\n",
    "\n",
    "# Process video\n",
    "video = cv2.VideoCapture(0)  # Use camera (or replace with video file path)\n",
    "\n",
    "while True:\n",
    "    ret, frame = video.read()\n",
    "    if not ret:\n",
    "        break\n",
    "\n",
    "    faces = detect_faces(face_net, frame)\n",
    "    for (x1, y1, x2, y2) in faces:\n",
    "        face = frame[y1:y2, x1:x2]\n",
    "        blob = cv2.dnn.blobFromImage(face, 1.0, (227, 227), [78.426337, 87.768914, 114.895847], swapRB=False)\n",
    "        age_net.setInput(blob)\n",
    "        age_preds = age_net.forward()\n",
    "        age_group = age_groups[age_preds[0].argmax()]\n",
    "        \n",
    "        # Draw bounding box and label\n",
    "        cv2.rectangle(frame, (x1, y1), (x2, y2), (0, 255, 0), 2)\n",
    "        cv2.putText(frame, age_group, (x1, y1 - 10), cv2.FONT_HERSHEY_SIMPLEX, 0.8, (255, 255, 255), 2)\n",
    "\n",
    "    cv2.imshow(\"Age Detection\", frame)\n",
    "    if cv2.waitKey(1) & 0xFF == ord('q'):\n",
    "        break\n",
    "\n",
    "video.release()\n",
    "cv2.destroyAllWindows()\n"
   ]
  }
 ],
 "metadata": {
  "kernelspec": {
   "display_name": "Python 3",
   "language": "python",
   "name": "python3"
  },
  "language_info": {
   "codemirror_mode": {
    "name": "ipython",
    "version": 3
   },
   "file_extension": ".py",
   "mimetype": "text/x-python",
   "name": "python",
   "nbconvert_exporter": "python",
   "pygments_lexer": "ipython3",
   "version": "3.11.0"
  }
 },
 "nbformat": 4,
 "nbformat_minor": 2
}
